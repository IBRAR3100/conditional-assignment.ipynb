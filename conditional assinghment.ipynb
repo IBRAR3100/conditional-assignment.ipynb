{
 "cells": [
  {
   "cell_type": "markdown",
   "id": "edaf322d",
   "metadata": {},
   "source": [
    "conditionl stament is used to make decision in our program "
   ]
  },
  {
   "cell_type": "code",
   "execution_count": 3,
   "id": "1fbb06f7",
   "metadata": {},
   "outputs": [
    {
     "name": "stdout",
     "output_type": "stream",
     "text": [
      "you are an adult\n"
     ]
    }
   ],
   "source": [
    "age = 18\n",
    "if age >= 18:\n",
    "  print(\"you are an adult\")"
   ]
  },
  {
   "cell_type": "code",
   "execution_count": null,
   "id": "371e96f5",
   "metadata": {},
   "outputs": [
    {
     "name": "stdout",
     "output_type": "stream",
     "text": [
      "you are not an adult\n"
     ]
    }
   ],
   "source": [
    "age = 18     #else \n",
    "if age <= 18:\n",
    "  print(\"you are not an adult\")"
   ]
  },
  {
   "cell_type": "code",
   "execution_count": 5,
   "id": "7adef25c",
   "metadata": {},
   "outputs": [
    {
     "name": "stdout",
     "output_type": "stream",
     "text": [
      "grade: B\n"
     ]
    }
   ],
   "source": [
    "marks = 75\n",
    "if marks >= 90:\n",
    "    print(\"grade: A\")\n",
    "elif marks >= 75:\n",
    "    print(\"grade: B\")\n",
    "elif marks >= 50:\n",
    "    print(\"grade: C\")\n",
    "else:\n",
    "    print(\"fail\")"
   ]
  },
  {
   "cell_type": "code",
   "execution_count": 6,
   "id": "10af8331",
   "metadata": {},
   "outputs": [
    {
     "name": "stdout",
     "output_type": "stream",
     "text": [
      "take an umbrella\n"
     ]
    }
   ],
   "source": [
    "weather = \"rainy\"\n",
    "if weather == \"rainy\":\n",
    "    print(\"take an umbrella\")\n",
    "elif weather == \"sunny\":\n",
    "    print(\"wear sunglass\")\n",
    "elif weather == \"cloudy\":\n",
    "    print(\"it might rain later\")\n",
    "else:\n",
    "    print(\"unknow weather condition\")"
   ]
  },
  {
   "cell_type": "code",
   "execution_count": 7,
   "id": "dc766f22",
   "metadata": {},
   "outputs": [
    {
     "name": "stdout",
     "output_type": "stream",
     "text": [
      "wear sunglass\n"
     ]
    }
   ],
   "source": [
    "weather = \"sunny\"\n",
    "if weather == \"rainy\":\n",
    "    print(\"take an umbrella\")\n",
    "elif weather == \"sunny\":\n",
    "    print(\"wear sunglass\")\n",
    "elif weather == \"cloudy\":\n",
    "    print(\"it might rain later\")\n",
    "else:\n",
    "    print(\"unknow weather condition\")"
   ]
  },
  {
   "cell_type": "code",
   "execution_count": 8,
   "id": "06298f70",
   "metadata": {},
   "outputs": [
    {
     "name": "stdout",
     "output_type": "stream",
     "text": [
      "it might rain later\n"
     ]
    }
   ],
   "source": [
    "weather = \"cloudy\"\n",
    "if weather == \"rainy\":\n",
    "    print(\"take an umbrella\")\n",
    "elif weather == \"sunny\":\n",
    "    print(\"wear sunglass\")\n",
    "elif weather == \"cloudy\":\n",
    "    print(\"it might rain later\")\n",
    "else:\n",
    "    print(\"unknow weather condition\")"
   ]
  },
  {
   "cell_type": "code",
   "execution_count": 9,
   "id": "9e200984",
   "metadata": {},
   "outputs": [
    {
     "name": "stdout",
     "output_type": "stream",
     "text": [
      "go eat some thing!\n"
     ]
    }
   ],
   "source": [
    "hungry = True\n",
    "if hungry:\n",
    "    print(\"go eat some thing!\")\n",
    "else:\n",
    "    print(\"maybe have a snack later\")"
   ]
  },
  {
   "cell_type": "code",
   "execution_count": null,
   "id": "be337608",
   "metadata": {},
   "outputs": [],
   "source": [
    "mood = input(\"How are you feeling today? \")\n",
    "if mood == \"happy\":\n",
    "    print(\"That's great to hear!\")\n",
    "elif mood == \"sad\":\n",
    "    print(\"I hope your day gets better.\")\n",
    "elif mood == \"bored\":\n",
    "    print(\"Try reading a book  or playing cricket.\")\n",
    "else:\n",
    "    print(\"Thanks for sharing your mood!\")"
   ]
  }
 ],
 "metadata": {
  "kernelspec": {
   "display_name": "Python 3",
   "language": "python",
   "name": "python3"
  },
  "language_info": {
   "codemirror_mode": {
    "name": "ipython",
    "version": 3
   },
   "file_extension": ".py",
   "mimetype": "text/x-python",
   "name": "python",
   "nbconvert_exporter": "python",
   "pygments_lexer": "ipython3",
   "version": "3.12.9"
  }
 },
 "nbformat": 4,
 "nbformat_minor": 5
}
